{
 "cells": [
  {
   "cell_type": "code",
   "execution_count": 72,
   "metadata": {},
   "outputs": [],
   "source": [
    "from flask import Flask\n",
    "from flask import request\n",
    "import datetime\n",
    "from dateutil.parser import parse\n",
    "import json\n",
    "import numpy as np\n",
    "import random \n",
    "import collections\n",
    "import copy \n",
    "import math"
   ]
  },
  {
   "cell_type": "code",
   "execution_count": 4,
   "metadata": {},
   "outputs": [],
   "source": [
    "info_pr = {'process_info': [[[[1, 1, 10], [2, 1, 11]], [[3, 1, 12]], [[2, 1, 13]]],\n",
    "                            [[[3,1,14], [1,1,15], [2,1,16]], [[2,1,17], [3,1,18]], [[3,1,19]]],\n",
    "                            [[[1,1,1],[2,1,2]]]],\n",
    "           \"job_nb\": 3, 'total_op_nb': 7, 'machine_nb': 3,'machine_list':[1,2,3], 'machine_aval':[0,0,0],\n",
    "           'start_date':\"2022-11-01 00:00:00\",\n",
    "           'job_dict':{1:['order 1', 1], 2:['order 2', 1],3:['order 3', 1]},\n",
    "           'machine_dict':{1:'machine 1',2:'machine 2',3:'machine 3'}\n",
    "           }\n",
    "\n",
    "app = Flask(__name__)\n"
   ]
  },
  {
   "cell_type": "code",
   "execution_count": 96,
   "metadata": {},
   "outputs": [],
   "source": [
    "required_data = {\n",
    "    \"periodStartDate\": \"2022-11-01 00:00:00\", ##! 当前排产周期的开始时间\n",
    "    \"orders\": [ ##! 当前排产周期订单信息\n",
    "        {   \n",
    "            'orderID': '001',\n",
    "            'productID': '0213配油盘',\n",
    "            'productNB': 1\n",
    "        },\n",
    "        {\n",
    "            'orderID': '002',\n",
    "            'productID': '12M26机体',\n",
    "            'productNB': 1\n",
    "        },\n",
    "        {\n",
    "            'orderID': '003',\n",
    "            'productID': 'PSI机体',\n",
    "            'productNB': 2\n",
    "        }\n",
    "    ],\n",
    "    \"process\": { ##! 产品加工工艺信息\n",
    "        '0213配油盘': [\n",
    "            {\n",
    "                'machine': ['MC6000-7'],\n",
    "                'processTime': [20],\n",
    "                'fixture': ['F1'],\n",
    "                'isInspection': False\n",
    "            },\n",
    "            {\n",
    "                'machine': ['MC6000-7'],\n",
    "                'processTime': [35],\n",
    "                'fixture': ['F1'],\n",
    "                'isInspection': False\n",
    "            },\n",
    "            {\n",
    "                'machine': ['MC6000-7'],\n",
    "                'processTime': [30],\n",
    "                'fixture': ['F2'],\n",
    "                'isInspetion': False\n",
    "            },\n",
    "            {\n",
    "                'machine': ['MC6000-7'],\n",
    "                'processTime': [30],\n",
    "                'fixture': ['F2'],\n",
    "                'isInspetion': False\n",
    "            }\n",
    "        ],\n",
    "        '12M26机体': [\n",
    "            {\n",
    "                'machine': ['MC6000-6'],\n",
    "                'processTime': [50],\n",
    "                'fixture': ['F3'],\n",
    "                'isInspection': False\n",
    "            },\n",
    "            {\n",
    "                'machine': ['MC6000-7'],\n",
    "                'processTime': [75],\n",
    "                'fixture': ['F4'],\n",
    "                'isInspection': False\n",
    "            },\n",
    "            {\n",
    "                'machine': ['MC6000-6'],\n",
    "                'processTime': [60],\n",
    "                'fixture': ['F4'],\n",
    "                'isInsepction': False\n",
    "            },\n",
    "            {\n",
    "                'machine': ['MC6000-6'],\n",
    "                'processTime': [30],\n",
    "                'fixture': ['F5'],\n",
    "                'isInspection': True\n",
    "            }\n",
    "        ],\n",
    "        'PSI机体': [\n",
    "            {\n",
    "                'machine': ['德玛吉五轴', '乌尼恩-1#'],\n",
    "                'processTime': [276, 276],\n",
    "                'fixture': ['F6', 'F7'],\n",
    "                'isInspection': False\n",
    "            },\n",
    "            {\n",
    "                'machine': ['德玛吉五轴', '英赛-1#'],\n",
    "                'processTime': [360, 360],\n",
    "                'fixture': ['F8', 'F9'],\n",
    "                'isInspection': False\n",
    "            },\n",
    "            {\n",
    "                'machine': ['德玛吉五轴', '英赛-1#', 'BW'],\n",
    "                'processTime': [276, 276, 300],\n",
    "                'fixture': ['F10', 'F11', 'F12'],\n",
    "                'isInspection': False\n",
    "            },\n",
    "            {\n",
    "                'machine': ['南MTM清洗机'],\n",
    "                'processTime': [252],\n",
    "                'fixture': [],\n",
    "                'isInspection': False\n",
    "            }\n",
    "        ]\n",
    "    },\n",
    "    \"machines\": ['MC6000-6', 'MC6000-7', '德玛吉五轴', '乌尼恩-1#', '英赛-1#', 'BW', '南MTM清洗机'], ##! 当前排产周期的设备列表\n",
    "    \"stuff\": ['Jack', 'Tom', 'Mary', 'Lily', 'Bob', 'Alice', 'David', 'Eve', 'Frank', 'Grace', 'Helen', 'Ivan', 'John', 'Kevin', 'Lucy', 'Mike', 'Nancy', 'Oscar', 'Peter', 'Queen', 'Robin', 'Steve', 'Tony', 'Uma', 'Victor', 'Wendy', 'Xavier', 'Yvonne', 'Zoe'], ##! 当前排产周期的员工列表\n",
    "    \"machineAval\": [0, 0, 0, 0, 0, 0, 0], ##! 当前排产周期的设备可用时间\n",
    "    \"machineNotAvalPeriod\": { ##! 当前排产周期的设备不可用时间段\n",
    "        'MC6000-6': [['2022-11-01 19:00:00', '2022-11-02 08:00:00'], ['2022-11-02 19:00:00', '2022-11-03 08:00:00']], ##! 夜班不可用\n",
    "        'MC6000-7': [['2022-11-01 19:00:00', '2022-11-02 08:00:00'], ['2022-11-02 19:00:00', '2022-11-03 08:00:00']],\n",
    "        '德玛吉五轴': [],\n",
    "        '乌尼恩-1#': [],\n",
    "        '英赛-1#': [],\n",
    "        'BW': [],\n",
    "        '南MTM清洗机': [['2022-11-01 12:00:00', '2022-11-01 18:00:00']] ##! 维修时间\n",
    "    },\n",
    "    \"nonProcessingTime\": 15, ##! 上下料、换夹具等非加工时间\n",
    "}"
   ]
  },
  {
   "cell_type": "code",
   "execution_count": 97,
   "metadata": {},
   "outputs": [],
   "source": [
    "def time_transform(start_time: str, period: list): \n",
    "    start_time = datetime.datetime.strptime(start_time, \"%Y-%m-%d %H:%M:%S\")\n",
    "    target = []\n",
    "    if bool(period):\n",
    "        for i in period:\n",
    "            date1 = parse(i[0])\n",
    "            date2 = parse(i[1])\n",
    "            result1 = date1 - start_time\n",
    "            result2 = date2 - start_time\n",
    "            target.append([int(result1.total_seconds()//60), int(result2.total_seconds()//60)])\n",
    "    return target"
   ]
  },
  {
   "cell_type": "code",
   "execution_count": 98,
   "metadata": {},
   "outputs": [],
   "source": [
    "def info_pr_with_json(data_json):\n",
    "    global info_pr \n",
    "    info_pr['machine_nb'] = len(data_json['machines'])\n",
    "    dict_machine = {}\n",
    "    info_pr['machine_dict'] = {}\n",
    "    for index, machine_name in enumerate(data_json['machines']):\n",
    "        dict_machine[machine_name] = index + 1\n",
    "        info_pr['machine_dict'][index+1] = machine_name\n",
    "    info_pr['machine_list'] = [i for i in range(1, info_pr['machine_nb'] + 1)]\n",
    "    \n",
    "    job_nb = 0\n",
    "    for order in data_json['orders']:\n",
    "        job_nb += order['productNB']\n",
    "    info_pr['job_nb'] = job_nb\n",
    "    info_pr['start_date'] = data_json['periodStartDate']\n",
    "    info_pr['machineNotAvalPeriod'] = []\n",
    "    for machine, machine_index in dict_machine.items():\n",
    "        info_pr['machineNotAvalPeriod'].append(time_transform(data_json['periodStartDate'], data_json['machineNotAvalPeriod'][machine]))\n",
    "    \n",
    "    info_pr['process_info'] = []\n",
    "    info_pr['total_op_nb'] = 0\n",
    "    job_count = 1\n",
    "    for order in data_json['orders']:\n",
    "        for job_index_in_order in range(order['productNB']):\n",
    "            info_pr['job_dict'][job_count] = [order['orderID'] , job_index_in_order + 1]\n",
    "            job_count += 1\n",
    "            job_info = []\n",
    "            processes = data_json['process'][order['productID']]\n",
    "            info_pr['total_op_nb'] += len(processes)\n",
    "            for process in processes:\n",
    "                process_info = []\n",
    "                for index, machine in enumerate(process['machine']):\n",
    "                    temp = [0,1,0]\n",
    "                    # 设备index 赋值\n",
    "                    temp[0] = dict_machine[machine]\n",
    "                    ##! 暂时忽略夹具\n",
    "                    # 加工时间赋值\n",
    "                    temp[2] = process['processTime'][index]\n",
    "                    process_info.append(temp)\n",
    "                job_info.append(process_info)\n",
    "            info_pr['process_info'].append(job_info)\n",
    "    info_pr['machine_aval'] = data_json['machineAval']\n",
    "    info_pr['nonProcessingTime'] = data_json['nonProcessingTime']\n",
    "    return info_pr\n",
    "    "
   ]
  },
  {
   "cell_type": "code",
   "execution_count": 99,
   "metadata": {},
   "outputs": [
    {
     "name": "stdout",
     "output_type": "stream",
     "text": [
      "4\n",
      "{1: 'MC6000-6', 2: 'MC6000-7', 3: '德玛吉五轴', 4: '乌尼恩-1#', 5: '英赛-1#', 6: 'BW', 7: '南MTM清洗机'}\n",
      "16\n"
     ]
    }
   ],
   "source": [
    "res = info_pr_with_json(required_data)\n",
    "print(res['job_nb'])\n",
    "print(res['machine_dict'])\n",
    "print(res['total_op_nb'])\n"
   ]
  },
  {
   "cell_type": "code",
   "execution_count": 104,
   "metadata": {},
   "outputs": [
    {
     "data": {
      "text/plain": [
       "{(1, 1): 1,\n",
       " (1, 2): 2,\n",
       " (1, 3): 3,\n",
       " (1, 4): 4,\n",
       " (2, 1): 5,\n",
       " (2, 2): 6,\n",
       " (2, 3): 7,\n",
       " (2, 4): 8,\n",
       " (3, 1): 9,\n",
       " (3, 2): 10,\n",
       " (3, 3): 11,\n",
       " (3, 4): 12,\n",
       " (4, 1): 13,\n",
       " (4, 2): 14,\n",
       " (4, 3): 15,\n",
       " (4, 4): 16}"
      ]
     },
     "execution_count": 104,
     "metadata": {},
     "output_type": "execute_result"
    }
   ],
   "source": [
    "JOB = [i for i in range(1, res['job_nb'] + 1)]\n",
    "OPERATION = {}\n",
    "for i in JOB:\n",
    "    OPERATION[i] = [i for i in range(1, 1+ len(res['process_info'][i-1]))]\n",
    "MACHINE = {}\n",
    "pt = {}\n",
    "PT = {}\n",
    "for i in JOB:\n",
    "    for j in OPERATION[i]:\n",
    "        MACHINE[(i,j)] = [res['process_info'][i-1][j-1][k][0] for k in range(len(res['process_info'][i-1][j-1]))]\n",
    "        pt[(i,j)] = [res['process_info'][i-1][j-1][k][2] for k in range(len(res['process_info'][i-1][j-1]))]\n",
    "        dic_ref = dict(zip(MACHINE[(i,j)], pt[(i,j)]))\n",
    "        for k in MACHINE[(i,j)]:\n",
    "            PT[(i,j,k)] = dic_ref[k]\n",
    "INDEX_DIC = {}\n",
    "lengh = 0\n",
    "for i in JOB:\n",
    "    for j in OPERATION[i]:\n",
    "        INDEX_DIC[(i,j)] = lengh + OPERATION[i].index(j) + 1\n",
    "    lengh += len(OPERATION[i])\n",
    "\n"
   ]
  },
  {
   "cell_type": "code",
   "execution_count": 106,
   "metadata": {},
   "outputs": [
    {
     "name": "stdout",
     "output_type": "stream",
     "text": [
      "[1, 2, 3, 4, 5, 6, 13, 14, 7, 8, 9, 10, 15, 11, 12, 16]\n",
      "[1, 2, 3, 4, 1, 2, 1, 2, 3, 4, 1, 2, 3, 3, 4, 4]\n"
     ]
    }
   ],
   "source": [
    "OS = [1,1,1,1,2,2,4,4,2,2,3,3,4,3,3,4]\n",
    "MA = [2,2,2,2,1,2,2,2,3,3,6,7,4,3,5,7]\n",
    "machine_num = res['machine_nb']\n",
    "\n",
    "def get_OS_index():\n",
    "    OS_copy = OS.copy()\n",
    "    OS_index = [] ##! OS中各工序对应在MA中的位置\n",
    "    OS_index_PT = [] ##! OS中各工序对应该产品的第几道工序\n",
    "    L = len(OS)\n",
    "    for i in range(L):\n",
    "        count = collections.Counter(OS_copy)\n",
    "        operation_index  = len(OPERATION[OS[i]]) - count[OS[i]]\n",
    "        OS_index.append(INDEX_DIC[(OS[i], OPERATION[OS[i]][operation_index])])\n",
    "        OS_index_PT.append(OPERATION[OS[i]][operation_index])\n",
    "        OS_copy.pop(0)\n",
    "    return OS_index, OS_index_PT\n",
    "\n"
   ]
  },
  {
   "cell_type": "code",
   "execution_count": 90,
   "metadata": {},
   "outputs": [
    {
     "data": {
      "text/plain": [
       "Counter({1: 4, 2: 4, 4: 4, 3: 4})"
      ]
     },
     "execution_count": 90,
     "metadata": {},
     "output_type": "execute_result"
    }
   ],
   "source": [
    "OS = [1,1,1,1,2,2,4,4,2,2,3,3,4,3,3,4]\n",
    "MA = [2,2,2,2,1,2,2,2,3,3,6,7,4,3,5,7]\n",
    "machine_num = res['machine_nb']\n",
    "\n",
    "# def get_OS_index():\n",
    "#     OS_copy = OS.copy()\n",
    "#     OS_index = [] ##! 给MA用\n",
    "#     OS_index_PT = [] ##! 给PT用\n",
    "#     L = len(OS)\n",
    "#     for i in range(L):\n",
    "#         count = collections.Counter(OS_copy)\n",
    "    \n",
    "count = collections.Counter(OS)\n",
    "count"
   ]
  },
  {
   "cell_type": "code",
   "execution_count": null,
   "metadata": {},
   "outputs": [],
   "source": []
  }
 ],
 "metadata": {
  "kernelspec": {
   "display_name": "Python 3.9.12 ('base')",
   "language": "python",
   "name": "python3"
  },
  "language_info": {
   "codemirror_mode": {
    "name": "ipython",
    "version": 3
   },
   "file_extension": ".py",
   "mimetype": "text/x-python",
   "name": "python",
   "nbconvert_exporter": "python",
   "pygments_lexer": "ipython3",
   "version": "3.9.12"
  },
  "orig_nbformat": 4,
  "vscode": {
   "interpreter": {
    "hash": "3530f3de02b08222eb7e39a9e9ad058dd2ba3d56d6b49bf28defe6f14c5bcc06"
   }
  }
 },
 "nbformat": 4,
 "nbformat_minor": 2
}
