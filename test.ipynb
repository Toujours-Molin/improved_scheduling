{
 "cells": [
  {
   "cell_type": "markdown",
   "metadata": {},
   "source": [
    "### 静态排产待优化项"
   ]
  },
  {
   "cell_type": "code",
   "execution_count": 2,
   "metadata": {},
   "outputs": [
    {
     "data": {
      "text/plain": [
       "(array([0, 0, 0, 1, 1, 1, 2, 2, 2, 3, 3, 3, 4, 4, 4]),\n",
       " array([0, 1, 2, 0, 1, 2, 0, 1, 2, 0, 1, 2, 0, 1, 2]))"
      ]
     },
     "execution_count": 2,
     "metadata": {},
     "output_type": "execute_result"
    }
   ],
   "source": [
    "import math\n",
    "import numpy as np\n",
    "import datetime\n",
    "\n",
    "a = [[10]*3 for i in range(5)]\n",
    "a = np.array(a)\n",
    "position = np.where(a == 10)\n",
    "position"
   ]
  },
  {
   "cell_type": "code",
   "execution_count": 3,
   "metadata": {},
   "outputs": [],
   "source": [
    "import collections"
   ]
  },
  {
   "cell_type": "code",
   "execution_count": 5,
   "metadata": {},
   "outputs": [
    {
     "name": "stdout",
     "output_type": "stream",
     "text": [
      "defaultdict(<class 'list'>, {})\n"
     ]
    }
   ],
   "source": [
    "ms = [1,2,3,5,7,4]\n",
    "info_ma = collections.defaultdict(list)\n"
   ]
  },
  {
   "cell_type": "code",
   "execution_count": 2,
   "metadata": {},
   "outputs": [
    {
     "data": {
      "text/plain": [
       "[0, 1, 2, 3, 4, 5, 6, 7, 8, 9]"
      ]
     },
     "execution_count": 2,
     "metadata": {},
     "output_type": "execute_result"
    }
   ],
   "source": [
    "choiceList = list(range(10))\n",
    "choiceList"
   ]
  },
  {
   "cell_type": "code",
   "execution_count": 6,
   "metadata": {},
   "outputs": [
    {
     "name": "stdout",
     "output_type": "stream",
     "text": [
      "0 [[[1, 1, 10], [2, 1, 11]], [[3, 1, 12]], [[2, 1, 13]]]\n",
      "1 [[[3, 1, 14], [1, 1, 15], [2, 1, 16]], [[2, 1, 17], [3, 1, 18]], [[3, 1, 19]]]\n",
      "2 [[[1, 1, 1], [2, 1, 2]]]\n"
     ]
    }
   ],
   "source": [
    "process_infor = [[[[1, 1, 10], [2, 1, 11]], [[3, 1, 12]], [[2, 1, 13]]],\n",
    "                            [[[3,1,14], [1,1,15], [2,1,16]], [[2,1,17], [3,1,18]], [[3,1,19]]],\n",
    "                            [[[1,1,1],[2,1,2]]]]\n",
    "for job_index, job in enumerate(process_infor):\n",
    "    print(job_index, job)"
   ]
  },
  {
   "cell_type": "code",
   "execution_count": 10,
   "metadata": {},
   "outputs": [
    {
     "data": {
      "text/plain": [
       "datetime.datetime(2022, 10, 23, 10, 8, 55, 801939)"
      ]
     },
     "execution_count": 10,
     "metadata": {},
     "output_type": "execute_result"
    }
   ],
   "source": [
    "start_time = datetime.datetime.now()\n",
    "start_time"
   ]
  },
  {
   "cell_type": "code",
   "execution_count": 12,
   "metadata": {},
   "outputs": [
    {
     "data": {
      "text/plain": [
       "[[[10, 20], [30, 40]], 0, 0, 0, 0, 0, 0, 0, 0, 0]"
      ]
     },
     "execution_count": 12,
     "metadata": {},
     "output_type": "execute_result"
    }
   ],
   "source": [
    "machine_occupation = [0 for _ in range(10)]\n",
    "machine_occupation[0] = [[10,20], [30,40]]\n",
    "machine_occupation"
   ]
  },
  {
   "cell_type": "code",
   "execution_count": 8,
   "metadata": {},
   "outputs": [
    {
     "data": {
      "text/plain": [
       "4"
      ]
     },
     "execution_count": 8,
     "metadata": {},
     "output_type": "execute_result"
    }
   ],
   "source": [
    "p = [0.3, 0.4, 0.2, 0.1]\n",
    "selected = np.random.choice(np.arange(4), size = 3, replace=True, p=p)\n",
    "selected\n",
    "len(np.array(p))"
   ]
  },
  {
   "cell_type": "code",
   "execution_count": 9,
   "metadata": {},
   "outputs": [
    {
     "data": {
      "text/plain": [
       "False"
      ]
     },
     "execution_count": 9,
     "metadata": {},
     "output_type": "execute_result"
    }
   ],
   "source": [
    "s =  datetime.timedelta(days=20)\n",
    "date2str = (datetime.datetime.now() + s).strftime('%Y-%m-%d %H:%M:%S')\n",
    "def compare_two_datetime(date1, date2):\n",
    "    if date1 > date2:\n",
    "        return True\n",
    "    else:\n",
    "        return False\n",
    "date1 = datetime.datetime.now()\n",
    "date2 = datetime.datetime.now() + datetime.timedelta(days=20)\n",
    "compare_two_datetime(date1, date2)"
   ]
  },
  {
   "cell_type": "code",
   "execution_count": 11,
   "metadata": {},
   "outputs": [
    {
     "data": {
      "text/plain": [
       "[('2022-11-01', 'dayShift'),\n",
       " ('2022-11-01', 'nightShift'),\n",
       " ('2022-11-02', 'dayShift'),\n",
       " ('2022-11-02', 'nightShift'),\n",
       " ('2022-11-03', 'dayShift'),\n",
       " ('2022-11-03', 'nightShift')]"
      ]
     },
     "execution_count": 11,
     "metadata": {},
     "output_type": "execute_result"
    }
   ],
   "source": [
    "shift_list = [('2022-11-03', 'dayShift'), ('2022-11-01', 'dayShift'), ('2022-11-02', 'dayShift'), ('2022-11-03', 'nightShift'), ('2022-11-01', 'nightShift'), ('2022-11-02', 'nightShift')]\n",
    "shift_list.sort(key=lambda x: x[0])\n",
    "shift_list\n"
   ]
  },
  {
   "cell_type": "code",
   "execution_count": 3,
   "metadata": {},
   "outputs": [
    {
     "data": {
      "text/plain": [
       "'(1, 2)'"
      ]
     },
     "execution_count": 3,
     "metadata": {},
     "output_type": "execute_result"
    }
   ],
   "source": [
    "aDict = {(1,2): 1, (2,3): 2}\n",
    "str((1,2))"
   ]
  },
  {
   "cell_type": "code",
   "execution_count": 2,
   "metadata": {},
   "outputs": [
    {
     "data": {
      "text/plain": [
       "'2022-10-01-day-shift'"
      ]
     },
     "execution_count": 2,
     "metadata": {},
     "output_type": "execute_result"
    }
   ],
   "source": [
    "day = '2022-10-01'\n",
    "shift = 'day-shift'\n",
    "day + '-' + shift "
   ]
  },
  {
   "cell_type": "code",
   "execution_count": 7,
   "metadata": {},
   "outputs": [
    {
     "data": {
      "text/plain": [
       "{'a': {1: 2, 2: 3}}"
      ]
     },
     "execution_count": 7,
     "metadata": {},
     "output_type": "execute_result"
    }
   ],
   "source": [
    "total_plan = dict()\n",
    "total_plan['a'] = {}\n",
    "total_plan['a'][1] =2\n",
    "total_plan['a'][2] = 3\n",
    "total_plan"
   ]
  }
 ],
 "metadata": {
  "kernelspec": {
   "display_name": "Python 3.9.12 ('base')",
   "language": "python",
   "name": "python3"
  },
  "language_info": {
   "codemirror_mode": {
    "name": "ipython",
    "version": 3
   },
   "file_extension": ".py",
   "mimetype": "text/x-python",
   "name": "python",
   "nbconvert_exporter": "python",
   "pygments_lexer": "ipython3",
   "version": "3.9.12"
  },
  "orig_nbformat": 4,
  "vscode": {
   "interpreter": {
    "hash": "3530f3de02b08222eb7e39a9e9ad058dd2ba3d56d6b49bf28defe6f14c5bcc06"
   }
  }
 },
 "nbformat": 4,
 "nbformat_minor": 2
}
